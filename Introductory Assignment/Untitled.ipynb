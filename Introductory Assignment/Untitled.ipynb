{
 "cells": [
  {
   "cell_type": "code",
   "execution_count": 3,
   "id": "d74df377-6994-477c-81f1-9d75ad709ea2",
   "metadata": {},
   "outputs": [],
   "source": [
    "import matplotlib.pyplot as plt\n",
    "import scipy.stats as stats\n",
    "import numpy as np\n",
    "import mpl_toolkits\n",
    "from scipy.integrate import dblquad\n",
    "import random"
   ]
  },
  {
   "cell_type": "code",
   "execution_count": 4,
   "id": "8c127adf-0c8c-4802-9e3e-66ec22b1fec6",
   "metadata": {},
   "outputs": [],
   "source": [
    "import matplotlib\n",
    "matplotlib.use('TkAgg')  "
   ]
  },
  {
   "cell_type": "code",
   "execution_count": 5,
   "id": "eacab7df-ced4-4c0c-bb8e-0a7ad7733e54",
   "metadata": {},
   "outputs": [],
   "source": [
    "def gaussian_2d(x, y):\n",
    "    return (1/(2*np.pi)) * np.exp(-0.5 * (x**2 + y**2))"
   ]
  },
  {
   "cell_type": "code",
   "execution_count": 6,
   "id": "74a18c51-0c1d-4d46-b5dc-6465d2af708b",
   "metadata": {},
   "outputs": [],
   "source": [
    "def polar_to_cartesian(r, theta):\n",
    "    x = r * np.cos(theta)\n",
    "    y = r * np.sin(theta)\n",
    "    return x, y"
   ]
  },
  {
   "cell_type": "code",
   "execution_count": 19,
   "id": "54d126c1-755c-4657-8566-105cadb29980",
   "metadata": {},
   "outputs": [],
   "source": [
    "def probability_of_hitting_patch(R, r_c, theta, r):\n",
    "    x_c, y_c = polar_to_cartesian(r_c, theta)\n",
    "    # y range\n",
    "    y_min = y_c - r\n",
    "    y_max = y_c + r\n",
    "    #x_range based on output\n",
    "    def x_limits(y):\n",
    "        return x_c - np.sqrt(r**2 - (y - y_c)**2), x_c + np.sqrt(r**2 - (y - y_c)**2)\n",
    "    prob, _ = dblquad(gaussian_2d, y_min, y_max, lambda y: x_limits(y)[0], lambda y: x_limits(y)[1])\n",
    "    return prob\n"
   ]
  },
  {
   "cell_type": "code",
   "execution_count": 20,
   "id": "e249fe4c-253c-43fa-9046-269bd233a458",
   "metadata": {},
   "outputs": [],
   "source": [
    "def probability_of_not_hitting_patch(R, r_c, theta, r):\n",
    "    x_c, y_c = polar_to_cartesian(r_c, theta)\n",
    "    # y range\n",
    "    y_min =  - r\n",
    "    y_max = + r\n",
    "    #x_range based on output\n",
    "    def x_limits(y):\n",
    "        return x_c - np.sqrt(r**2 - (y - y_c)**2), x_c + np.sqrt(r**2 - (y - y_c)**2)\n",
    "    prob, _ = dblquad(gaussian_2d, y_min, y_max, lambda y: x_limits(y)[0], lambda y: x_limits(y)[1])\n",
    "    return prob\n"
   ]
  },
  {
   "cell_type": "markdown",
   "id": "dd966f5c-0d77-4a89-96ca-823a935228ee",
   "metadata": {},
   "source": [
    "![Alt text](output.png)"
   ]
  },
  {
   "cell_type": "markdown",
   "id": "93516533-34d1-47ab-9ed2-65f5f75775c7",
   "metadata": {},
   "source": [
    "$$P(\\Omega)=1 $$"
   ]
  },
  {
   "cell_type": "code",
   "execution_count": 21,
   "id": "04315ce4-f143-4b06-8bde-5b418281dbe1",
   "metadata": {},
   "outputs": [
    {
     "name": "stdout",
     "output_type": "stream",
     "text": [
      "Probability of hitting the patch: 1.0\n"
     ]
    }
   ],
   "source": [
    "R = 10  \n",
    "r_c = 0\n",
    "theta = np.pi / 4  \n",
    "r = 10  \n",
    "probability = probability_of_hitting_patch(R, r_c, theta, r)\n",
    "print(f\"Probability of hitting the patch: {probability}\")\n"
   ]
  },
  {
   "cell_type": "markdown",
   "id": "5852f6fa-ef07-4414-8b6e-7e8473b0fc5d",
   "metadata": {},
   "source": [
    "$$P(A') $$"
   ]
  },
  {
   "cell_type": "code",
   "execution_count": 24,
   "id": "6676dfda-a7c3-4e36-8ea7-787699c8a723",
   "metadata": {},
   "outputs": [
    {
     "name": "stdout",
     "output_type": "stream",
     "text": [
      "Probability of hitting the patch: 0.39346934028736963\n",
      "Probability of hitting the patch: 0.6065306597126303\n"
     ]
    }
   ],
   "source": [
    "#Hitting\n",
    "R = 10  \n",
    "r_c = 0\n",
    "theta = np.pi / 4  \n",
    "r = 1 \n",
    "probability = probability_of_hitting_patch(R, r_c, theta, r)\n",
    "print(f\"Probability of hitting the patch: {probability}\")\n",
    "#Not Hitting\n",
    "\n",
    "probability = probability_of_not_hitting_patch(R, r_c, theta, r)\n",
    "print(f\"Probability of hitting the patch: {1-probability}\")\n"
   ]
  },
  {
   "cell_type": "code",
   "execution_count": 12,
   "id": "dada4739-7242-40f7-b5e4-060f3b6aaad4",
   "metadata": {},
   "outputs": [
    {
     "name": "stdout",
     "output_type": "stream",
     "text": [
      "Probability of hitting the patch: 1.0\n"
     ]
    }
   ],
   "source": [
    "for i in range(0,n):\n",
    "    R = rand\n",
    "    r_c = 0 \n",
    "    theta = np.pi / 4  \n",
    "    r = 10\n",
    "\n",
    "probability = probability_of_hitting_patch(R, r_c, theta, r)\n",
    "print(f\"Probability of hitting the patch: {probability}\")\n",
    "##logistic issues in code "
   ]
  },
  {
   "cell_type": "code",
   "execution_count": 83,
   "id": "b365a6ac-a3ab-432e-a1c4-7ad4b0917118",
   "metadata": {},
   "outputs": [
    {
     "name": "stdout",
     "output_type": "stream",
     "text": [
      "matplotlib: 3.9.1.post1\n"
     ]
    }
   ],
   "source": [
    "print('matplotlib: {}'.format(matplotlib.__version__))\n"
   ]
  }
 ],
 "metadata": {
  "kernelspec": {
   "display_name": "Python 3 (ipykernel)",
   "language": "python",
   "name": "python3"
  },
  "language_info": {
   "codemirror_mode": {
    "name": "ipython",
    "version": 3
   },
   "file_extension": ".py",
   "mimetype": "text/x-python",
   "name": "python",
   "nbconvert_exporter": "python",
   "pygments_lexer": "ipython3",
   "version": "3.10.12"
  }
 },
 "nbformat": 4,
 "nbformat_minor": 5
}
