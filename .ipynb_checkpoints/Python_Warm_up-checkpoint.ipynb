{
  "cells": [
    {
      "cell_type": "markdown",
      "id": "bef28ea3",
      "metadata": {
        "id": "bef28ea3"
      },
      "source": [
        "### Reading a file :"
      ]
    },
    {
      "cell_type": "code",
      "execution_count": null,
      "id": "362d9f3e",
      "metadata": {
        "id": "362d9f3e"
      },
      "outputs": [],
      "source": [
        "def read_data(filename):\n",
        "    with open(filename,'r') as f:\n",
        "        text = f.readlines()\n",
        "        print(text)"
      ]
    },
    {
      "cell_type": "code",
      "execution_count": null,
      "id": "192e5247",
      "metadata": {
        "id": "192e5247"
      },
      "outputs": [],
      "source": [
        "read_data('welcome.txt')"
      ]
    },
    {
      "cell_type": "markdown",
      "id": "76056518",
      "metadata": {
        "id": "76056518"
      },
      "source": [
        "### Some exercises that you can do :\n",
        "- print each line separately\n",
        "- counting the number of vowels\n",
        "- find frequency of each word\n",
        "- write the file from last to first\n",
        "- etc!!"
      ]
    },
    {
      "cell_type": "markdown",
      "id": "e85872c4",
      "metadata": {
        "id": "e85872c4"
      },
      "source": [
        "### Reading and parsing Tabular data:"
      ]
    },
    {
      "cell_type": "code",
      "execution_count": null,
      "id": "940da095",
      "metadata": {
        "id": "940da095"
      },
      "outputs": [],
      "source": [
        "import pandas as pd\n",
        "data=pd.read_csv('iris.csv')\n",
        "print(data)\n"
      ]
    },
    {
      "cell_type": "markdown",
      "id": "9f66397e",
      "metadata": {
        "id": "9f66397e"
      },
      "source": [
        "Read the sepal.length and sepal.width columns"
      ]
    },
    {
      "cell_type": "code",
      "execution_count": null,
      "id": "ff2511f3",
      "metadata": {
        "id": "ff2511f3"
      },
      "outputs": [],
      "source": [
        "#read the sepal length column\n",
        "sepal_info = data[['sepal.length','sepal.width']]\n",
        "sepal_info"
      ]
    },
    {
      "cell_type": "markdown",
      "id": "13f56aa7",
      "metadata": {
        "id": "13f56aa7"
      },
      "source": [
        "Selecting columns based on conditions"
      ]
    },
    {
      "cell_type": "code",
      "execution_count": null,
      "id": "04eb71b1",
      "metadata": {
        "id": "04eb71b1"
      },
      "outputs": [],
      "source": [
        "data[data['sepal.length']>=5.0]\n"
      ]
    },
    {
      "cell_type": "markdown",
      "id": "ea707a17",
      "metadata": {
        "id": "ea707a17"
      },
      "source": [
        "### Some exercises that you can do :\n",
        "- slice rows and columns based indices\n",
        "- find statistical information from data (Ex. Mean, Median, Std. Deviation etc)\n",
        "- group data based on conditions\n",
        "- sort data\n",
        "- try loading other datasets and perform calculations based on column values etc\n",
        "- write your results to a file\n",
        "- etc!"
      ]
    },
    {
      "cell_type": "markdown",
      "id": "dc084819",
      "metadata": {
        "id": "dc084819"
      },
      "source": [
        "### Plots and visualizations"
      ]
    },
    {
      "cell_type": "code",
      "execution_count": null,
      "id": "28c7b03c",
      "metadata": {
        "id": "28c7b03c"
      },
      "outputs": [],
      "source": [
        "import seaborn as sb\n",
        "import matplotlib\n",
        "import matplotlib.pyplot as plt\n",
        "\n",
        "fig, axs = plt.subplots(2,figsize=(8,10))\n",
        "axs[0].set_title('Petals-Sepals in Iris')\n",
        "axs[0].set_xlabel('Sepal length in cm');\n",
        "axs[0].set_ylabel('Petal length in cm ');\n",
        "sb.scatterplot(x=data['sepal.length'],y=data['petal.length'],hue=data.variety,ax=axs[0]);\n",
        "\n",
        "axs[1].set_title('Box plot for petal Length across species')\n",
        "sb.boxplot(x=\"variety\", y=\"petal.length\", palette=\"husl\", data=data,ax=axs[1])\n",
        "fig.tight_layout()"
      ]
    },
    {
      "cell_type": "code",
      "execution_count": null,
      "id": "abb05bf4",
      "metadata": {
        "id": "abb05bf4"
      },
      "outputs": [],
      "source": [
        "sb.histplot(data=data, x=\"petal.length\")\n",
        "plt.title('Histogram');\n"
      ]
    },
    {
      "cell_type": "markdown",
      "id": "59689448",
      "metadata": {
        "id": "59689448"
      },
      "source": [
        "### Some exercises that you can do :\n",
        "- explore matplotlib, seaborn and other plotting libraries\n",
        "- Try different kinds of plots like : line plots, scatterplots, bargraphs, pie charts, histograms,heatmaps etc\n",
        "- plot 2D, 3D plots\n",
        "- etc!"
      ]
    },
    {
      "cell_type": "markdown",
      "id": "00a2595f",
      "metadata": {
        "id": "00a2595f"
      },
      "source": [
        "### Read Image"
      ]
    },
    {
      "cell_type": "code",
      "execution_count": null,
      "id": "a92e1362",
      "metadata": {
        "id": "a92e1362"
      },
      "outputs": [],
      "source": [
        "from PIL import Image\n",
        "import numpy as np\n",
        "\n",
        "\n",
        "img = Image.open('lena.png')\n",
        "\n",
        "img.show()\n",
        "\n",
        "image_data =np.array(img)\n",
        "image_data"
      ]
    },
    {
      "cell_type": "markdown",
      "id": "4a4da836",
      "metadata": {
        "id": "4a4da836"
      },
      "source": [
        "## References :\n",
        "- [Python Installation](https://www.python.org/downloads/)\n",
        "- [Miniconda Installation](https://docs.conda.io/en/latest/miniconda.html)\n",
        "- [Basic Python](https://docs.python.org/3/library/)\n",
        "- [Pandas](https://pandas.pydata.org/pandas-docs/stable/reference/frame.html)\n",
        "- [Matplotlib](https://matplotlib.org/stable/api/_as_gen/matplotlib.pyplot.html#module-matplotlib.pyplot)\n",
        "- [Seaborn](https://seaborn.pydata.org/tutorial.html)\n",
        "- [Numpy](https://numpy.org/doc/1.21/reference/index.html)"
      ]
    }
  ],
  "metadata": {
    "kernelspec": {
      "display_name": "Python 3",
      "language": "python",
      "name": "python3"
    },
    "language_info": {
      "codemirror_mode": {
        "name": "ipython",
        "version": 3
      },
      "file_extension": ".py",
      "mimetype": "text/x-python",
      "name": "python",
      "nbconvert_exporter": "python",
      "pygments_lexer": "ipython3",
      "version": "3.7.7"
    },
    "colab": {
      "provenance": []
    }
  },
  "nbformat": 4,
  "nbformat_minor": 5
}